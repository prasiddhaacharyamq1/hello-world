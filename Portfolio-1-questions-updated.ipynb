{
 "cells": [
  {
   "cell_type": "markdown",
   "id": "skHfgkqlqndO",
   "metadata": {
    "id": "skHfgkqlqndO"
   },
   "source": [
    "## Analysis of a car sell record Dataset\n",
    "\n",
    "We have been provided with a car sell record dataset. In this dataset, we have thounds of car sell records.\n",
    "\n",
    "The structure of this dataset is represented in the header shown below.\n",
    "\n",
    "name\n",
    "year\n",
    "selling_price\n",
    "km_driven\n",
    "fuel\n",
    "seller_type\n",
    "transmission\n",
    "Owner\n",
    "\n",
    "| name | year | selling_price | km_driven| fuel | seller_type | transmission | Owner |\n",
    "\n",
    "    | ---- | ---- | ---- | ---- | ---- | ---- | ---- | ---- |   \n",
    "    \n",
    "#### Description of Fields\n",
    "\n",
    "* __name__ - detail car type of the sold car\n",
    "* __year__ - Year of the car when it was bought\n",
    "* __selling_price__ - Price at which the car is being sold\n",
    "* __km_driven__ - Number of Kilometres the car is driven\n",
    "* __fuel__ - Fuel type of car (petrol / diesel / CNG / LPG / electric)\n",
    "* __seller_type__ - Tells if a Seller is Individual or a Dealer\n",
    "* __transmission__ - Gear transmission of the car (Automatic/Manual)\n",
    "* __owner__ - Number of previous owners of the car.\n",
    "\n",
    "There are four questions to explore with the data as shown below.\n"
   ]
  },
  {
   "cell_type": "code",
   "execution_count": 56,
   "id": "zNTpU9ToS8QK",
   "metadata": {
    "id": "zNTpU9ToS8QK"
   },
   "outputs": [],
   "source": [
    "your_name = \"Prasiddha Acharya\"\n",
    "your_student_id = \"47697652\""
   ]
  },
  {
   "cell_type": "code",
   "execution_count": 58,
   "id": "giZ_rSg8ezK6",
   "metadata": {
    "colab": {
     "base_uri": "https://localhost:8080/"
    },
    "executionInfo": {
     "elapsed": 100002,
     "status": "ok",
     "timestamp": 1710290642987,
     "user": {
      "displayName": "Yuzhe Tian",
      "userId": "05567834028890049819"
     },
     "user_tz": -660
    },
    "id": "giZ_rSg8ezK6",
    "outputId": "5306c39c-4547-4a3c-a25a-b9bbef85cb8d"
   },
   "outputs": [],
   "source": [
    "# libraries you might need\n",
    "import pandas as pd\n",
    "import numpy as np\n",
    "import matplotlib.pyplot as plt\n",
    "%matplotlib inline\n",
    "\n",
    "# if you are using google colab with google drive, you could read files from google drive with the following codes\n",
    "# from google.colab import drive\n",
    "# drive.mount('/content/drive')\n",
    "car_sell_df = pd.read_csv('car_sell.csv')"
   ]
  },
  {
   "cell_type": "markdown",
   "id": "-tb7B7VTqndQ",
   "metadata": {
    "id": "-tb7B7VTqndQ"
   },
   "source": [
    " ## Q1. Remove missing data\n",
    "\n",
    "Please remove the records that match ANY of the below two conditions in the csv file:\n",
    "\n",
    " * year is missing\n",
    " * fuel is 'none'\n",
    "\n",
    "__Display the DataFrame, counting number of Null values in each column, and print the length of the data__ before and after removing the missing data.  "
   ]
  },
  {
   "cell_type": "code",
   "execution_count": 61,
   "id": "d8805ae7-06b4-43cc-a489-4ef31108c202",
   "metadata": {},
   "outputs": [
    {
     "name": "stdout",
     "output_type": "stream",
     "text": [
      "<class 'pandas.core.frame.DataFrame'>\n",
      "RangeIndex: 4340 entries, 0 to 4339\n",
      "Data columns (total 9 columns):\n",
      " #   Column         Non-Null Count  Dtype  \n",
      "---  ------         --------------  -----  \n",
      " 0   Unnamed: 0     4340 non-null   int64  \n",
      " 1   name           4340 non-null   object \n",
      " 2   year           4030 non-null   float64\n",
      " 3   selling_price  4340 non-null   int64  \n",
      " 4   km_driven      4340 non-null   int64  \n",
      " 5   fuel           4340 non-null   object \n",
      " 6   seller_type    4340 non-null   object \n",
      " 7   transmission   4340 non-null   object \n",
      " 8   owner          4340 non-null   object \n",
      "dtypes: float64(1), int64(3), object(5)\n",
      "memory usage: 305.3+ KB\n",
      "None\n"
     ]
    }
   ],
   "source": [
    "print(car_sell_df.info())"
   ]
  },
  {
   "cell_type": "code",
   "execution_count": 63,
   "id": "44b81b81-4cca-47a8-ac9f-66841a6d128a",
   "metadata": {},
   "outputs": [],
   "source": [
    "new_car_sell_df = car_sell_df.dropna(subset =['year'])\n",
    "#removing'year' and 'fuel' missing records\n",
    "\n",
    "cleaned_car_sell_df = cleaned_car_sell_df[cleaned_car_sell_df['fuel'] != 'none']"
   ]
  },
  {
   "cell_type": "code",
   "execution_count": 65,
   "id": "082e7073-2282-46f1-9ec7-24e3049d4db8",
   "metadata": {},
   "outputs": [
    {
     "name": "stdout",
     "output_type": "stream",
     "text": [
      "<class 'pandas.core.frame.DataFrame'>\n",
      "Index: 4030 entries, 0 to 4339\n",
      "Data columns (total 9 columns):\n",
      " #   Column         Non-Null Count  Dtype  \n",
      "---  ------         --------------  -----  \n",
      " 0   Unnamed: 0     4030 non-null   int64  \n",
      " 1   name           4030 non-null   object \n",
      " 2   year           4030 non-null   float64\n",
      " 3   selling_price  4030 non-null   int64  \n",
      " 4   km_driven      4030 non-null   int64  \n",
      " 5   fuel           4030 non-null   object \n",
      " 6   seller_type    4030 non-null   object \n",
      " 7   transmission   4030 non-null   object \n",
      " 8   owner          4030 non-null   object \n",
      "dtypes: float64(1), int64(3), object(5)\n",
      "memory usage: 314.8+ KB\n",
      "None\n"
     ]
    }
   ],
   "source": [
    "print(new_car_sell_df.info())\n",
    "#Taking cleaned dataframe"
   ]
  },
  {
   "cell_type": "code",
   "execution_count": 67,
   "id": "183262f6-61ee-4fad-9e0c-3d65f90aed92",
   "metadata": {},
   "outputs": [
    {
     "name": "stdout",
     "output_type": "stream",
     "text": [
      "\n",
      "Initial number of rows: 4340\n"
     ]
    }
   ],
   "source": [
    "print(f\"\\nInitial number of rows: {len(car_sell_df)}\")"
   ]
  },
  {
   "cell_type": "code",
   "execution_count": 69,
   "id": "d66800dd-2137-434d-b9ea-1f35eee343e1",
   "metadata": {},
   "outputs": [
    {
     "name": "stdout",
     "output_type": "stream",
     "text": [
      "Cleaned number of rows: 3886\n"
     ]
    }
   ],
   "source": [
    "print(f\"Cleaned number of rows: {len(cleaned_car_sell_df)}\")"
   ]
  },
  {
   "cell_type": "markdown",
   "id": "EJG9_LEmqndR",
   "metadata": {
    "id": "EJG9_LEmqndR"
   },
   "source": [
    "## Q2. Descriptive statistics\n",
    "\n",
    "With the cleaned data in Q1, please provide the data summarization as below:\n",
    "\n",
    "* Q2.1 total number of unique name, unique seller_type, unique transmission, and unique owner\n",
    "* Q2.2 descriptive statistics, including the total number, mean, std, min and max regarding all km_driven\n",
    "* Q2.3 descriptive statistics, including mean, std, max, and min of the number of selling_price grouped by different seller_type\n",
    "* Q2.4 descriptive statistics, including mean, std, max, min of the number of years that sold by each owner type\n"
   ]
  },
  {
   "cell_type": "code",
   "execution_count": 71,
   "id": "5bfe6cb0-2622-4aa8-b662-4ee17f8ec36a",
   "metadata": {},
   "outputs": [],
   "source": [
    "unique_name_count = cleaned_car_sell_df['name'].nunique()\n",
    "#counting the total number of unique name\n",
    "\n",
    "unique_seller_type_count = cleaned_car_sell_df['seller_type'].nunique()\n",
    "#counting the total number of unique seller_type\n",
    "\n",
    "unique_transmission_count = cleaned_car_sell_df['transmission'].nunique()\n",
    "#counting the total number of unique transmission\n",
    "\n",
    "unique_owner_count = cleaned_car_sell_df['owner'].nunique()\n",
    "#counting the total number of unique owner"
   ]
  },
  {
   "cell_type": "code",
   "execution_count": 73,
   "id": "24c4c4a2-b1ae-4213-b6f1-4c7316770a84",
   "metadata": {},
   "outputs": [
    {
     "name": "stdout",
     "output_type": "stream",
     "text": [
      "Unique car names: 1402\n"
     ]
    }
   ],
   "source": [
    "print(f\"Unique car names: {unique_name_count}\")\n",
    "#printing no of unique car names "
   ]
  },
  {
   "cell_type": "code",
   "execution_count": 75,
   "id": "b7579ae8-48e6-41b1-8e86-09bb96b46b4a",
   "metadata": {},
   "outputs": [
    {
     "name": "stdout",
     "output_type": "stream",
     "text": [
      "Unique seller type: 3\n"
     ]
    }
   ],
   "source": [
    "print(f\"Unique seller type: {unique_seller_type_count}\")\n",
    "#printing no of unique seller type"
   ]
  },
  {
   "cell_type": "code",
   "execution_count": 80,
   "id": "424b7400-9b8a-492a-8066-746e0d5b1623",
   "metadata": {},
   "outputs": [
    {
     "name": "stdout",
     "output_type": "stream",
     "text": [
      "Unique transmission types: 2\n"
     ]
    }
   ],
   "source": [
    "print(f\"Unique transmission types: {unique_transmission_count}\")\n",
    "#printing no of unique transmission types"
   ]
  },
  {
   "cell_type": "code",
   "execution_count": 83,
   "id": "1510e67d-2558-497b-86cf-9b138cac0966",
   "metadata": {},
   "outputs": [
    {
     "name": "stdout",
     "output_type": "stream",
     "text": [
      "Unique owner types: 5\n"
     ]
    }
   ],
   "source": [
    "print(f\"Unique owner types: {unique_owner_count}\")"
   ]
  },
  {
   "cell_type": "code",
   "execution_count": 87,
   "id": "69db3ed4-8469-4263-9ee0-cb74e3747f47",
   "metadata": {},
   "outputs": [],
   "source": [
    "km_driven_stats = cleaned_car_sell_df['km_driven'].describe()"
   ]
  },
  {
   "cell_type": "code",
   "execution_count": 92,
   "id": "cb0b54f4-e548-458e-814b-62dfbda6510e",
   "metadata": {},
   "outputs": [
    {
     "name": "stdout",
     "output_type": "stream",
     "text": [
      "\n",
      "Descriptive statistics for 'km_driven':\n",
      "count      3886.000000\n",
      "mean      66313.279207\n",
      "std       46679.603916\n",
      "min           1.000000\n",
      "25%       35000.000000\n",
      "50%       60000.000000\n",
      "75%       90000.000000\n",
      "max      806599.000000\n",
      "Name: km_driven, dtype: float64\n"
     ]
    }
   ],
   "source": [
    "print(\"\\nDescriptive statistics for 'km_driven':\")\n",
    "print(km_driven_stats)"
   ]
  },
  {
   "cell_type": "code",
   "execution_count": 124,
   "id": "71bf2dd7-1303-4cca-98fc-6aaebd38acb7",
   "metadata": {},
   "outputs": [
    {
     "data": {
      "image/png": "[encoded data removed]",
      "text/plain": [
       "<Figure size 1200x600 with 1 Axes>"
      ]
     },
     "metadata": {},
     "output_type": "display_data"
    }
   ],
   "source": [
    "plt.figure(figsize=(12, 6))\n",
    "plt.hist(cleaned_car_sell_df['km_driven'], bins=30, color ='blue', edgecolor='black')\n",
    "plt.title('Destribution of Kilometers Driven')\n",
    "plt.xlabel('Kilometers Driven')\n",
    "plt.ylabel('Frequency')\n",
    "plt.grid(True)\n",
    "plt.show()"
   ]
  },
  {
   "cell_type": "code",
   "execution_count": 120,
   "id": "df386843-2f0f-4fa1-be8a-98d46cbf4b0c",
   "metadata": {},
   "outputs": [],
   "source": [
    "selling_price_stats_by_seller_type = cleaned_car_sell_df.groupby('seller_type')['selling_price'].describe()\n"
   ]
  },
  {
   "cell_type": "code",
   "execution_count": 122,
   "id": "d5b47288-9cb9-4360-aa0a-ef5ffafe1170",
   "metadata": {},
   "outputs": [
    {
     "name": "stdout",
     "output_type": "stream",
     "text": [
      "                   count           mean            std       min       25%  \\\n",
      "seller_type                                                                  \n",
      "Dealer             889.0  702093.314961  813597.811832   22000.0  300000.0   \n",
      "Individual        2903.0  421169.410265  420273.684129   20000.0  170000.0   \n",
      "Trustmark Dealer    94.0  935797.872340  655724.299195  315000.0  625000.0   \n",
      "\n",
      "                       50%       75%        max  \n",
      "seller_type                                      \n",
      "Dealer            490000.0  746000.0  8900000.0  \n",
      "Individual        300000.0  540000.0  4800000.0  \n",
      "Trustmark Dealer  750000.0  760000.0  2600000.0  \n"
     ]
    }
   ],
   "source": [
    "print(selling_price_stats_by_seller_type)\n",
    "#showing the descriptive statistics"
   ]
  },
  {
   "cell_type": "code",
   "execution_count": 128,
   "id": "6e9c106a-82ab-4d62-bf46-d44defe2a43b",
   "metadata": {},
   "outputs": [
    {
     "data": {
      "text/plain": [
       "<Figure size 1200x600 with 0 Axes>"
      ]
     },
     "metadata": {},
     "output_type": "display_data"
    },
    {
     "data": {
      "image/png": "[encoded data removed]",
      "text/plain": [
       "<Figure size 640x480 with 1 Axes>"
      ]
     },
     "metadata": {},
     "output_type": "display_data"
    }
   ],
   "source": [
    "plt.figure(figsize=(12, 6))\n",
    "cleaned_car_sell_df.boxplot(column='selling_price', by='seller_type', grid=False)\n",
    "plt.title('Selling Price by Seller Type')\n",
    "plt.suptitle('')  \n",
    "plt.xlabel('Seller Type')\n",
    "plt.ylabel('Selling Price')\n",
    "plt.show()"
   ]
  },
  {
   "cell_type": "code",
   "execution_count": 143,
   "id": "19896361-6f32-43f9-ae6f-658b45c01f26",
   "metadata": {},
   "outputs": [],
   "source": [
    "cleaned_car_sell_df['car_age'] = 2024 - cleaned_car_sell_df['year']\n",
    "#Adding a new column named car_age for the age of the car\n",
    "\n",
    "car_age_stats_by_owner = cleaned_car_sell_df.groupby('owner')['car_age']. describe()\n"
   ]
  },
  {
   "cell_type": "code",
   "execution_count": 145,
   "id": "0d1845f0-7c4e-4e49-a60f-7314c9d641a5",
   "metadata": {},
   "outputs": [
    {
     "name": "stdout",
     "output_type": "stream",
     "text": [
      "                       count       mean       std  min   25%   50%    75%  \\\n",
      "owner                                                                       \n",
      "First Owner           2532.0   9.546209  3.555597  4.0   7.0   9.0  12.00   \n",
      "Fourth & Above Owner    67.0  16.761194  5.248635  4.0  13.5  16.0  20.00   \n",
      "Second Owner          1000.0  13.023000  3.840993  5.0  10.0  12.5  15.00   \n",
      "Test Drive Car          14.0   4.357143  0.633324  4.0   4.0   4.0   4.75   \n",
      "Third Owner            273.0  14.586081  3.920266  5.0  12.0  14.0  17.00   \n",
      "\n",
      "                       max  \n",
      "owner                       \n",
      "First Owner           28.0  \n",
      "Fourth & Above Owner  32.0  \n",
      "Second Owner          29.0  \n",
      "Test Drive Car         6.0  \n",
      "Third Owner           27.0  \n"
     ]
    }
   ],
   "source": [
    "print(car_age_stats_by_owner)"
   ]
  },
  {
   "cell_type": "code",
   "execution_count": 163,
   "id": "71a08b03-4802-4fbf-90fc-a5ce229be322",
   "metadata": {},
   "outputs": [
    {
     "data": {
      "text/plain": [
       "<Figure size 1000x600 with 0 Axes>"
      ]
     },
     "metadata": {},
     "output_type": "display_data"
    },
    {
     "data": {
      "image/png": "[encoded data removed]",
      "text/plain": [
       "<Figure size 640x480 with 1 Axes>"
      ]
     },
     "metadata": {},
     "output_type": "display_data"
    }
   ],
   "source": [
    "plt.figure(figsize = (10,6))\n",
    "cleaned_car_sell_df.boxplot(column='car_age', by= 'owner', grid=False)\n",
    "plt.title('Car Age by Owner')\n",
    "plt.suptitle('')\n",
    "plt.xlabel('Owner')\n",
    "plt.ylabel('Car Age')\n",
    "plt.show()"
   ]
  },
  {
   "cell_type": "markdown",
   "id": "PISggxe5qndR",
   "metadata": {
    "id": "PISggxe5qndR"
   },
   "source": [
    "## Q3. Plotting and Analysis\n",
    "\n",
    "Please try to explore the correlation between fuel/year/seller_type/transmission/owner and selling_price; for instance, do First Owner cars tend to sell higher prices than second owner cars? Hint: you may use the boxplot function to plot figures for comparison\n",
    "    \n",
    "You may need to select the most suitable graphic forms for ease of presentation. Most importantly, for each figure or subfigure, please summarise ___what each plot shows___ (i.e. observations and explanations). Finally, you are required to provide an overall summary of your findings from the plots you generated."
   ]
  },
  {
   "cell_type": "markdown",
   "id": "TxD3SLxRqndR",
   "metadata": {
    "id": "TxD3SLxRqndR"
   },
   "source": [
    "## Q4. Detect and remove outliers\n",
    "\n",
    "We define car sale records WITHOUT following ANY of the below three rules as outliers:\n",
    "\n",
    "1. owner to be first, second and third owner only\n",
    "2. Fuel to be Diesel or Petrol only\n",
    "3. Seller_type to be dealer or individual only\n",
    "\n",
    "Please remove the corresponding records in the csv file that is not qualified with the rules. After that, __print the length of the data__."
   ]
  },
  {
   "cell_type": "code",
   "execution_count": null,
   "id": "c91e1456-27cf-4118-84be-be65508a1cef",
   "metadata": {},
   "outputs": [],
   "source": []
  }
 ],
 "metadata": {
  "colab": {
   "provenance": []
  },
  "kernelspec": {
   "display_name": "Python 3 (ipykernel)",
   "language": "python",
   "name": "python3"
  },
  "language_info": {
   "codemirror_mode": {
    "name": "ipython",
    "version": 3
   },
   "file_extension": ".py",
   "mimetype": "text/x-python",
   "name": "python",
   "nbconvert_exporter": "python",
   "pygments_lexer": "ipython3",
   "version": "3.12.4"
  }
 },
 "nbformat": 4,
 "nbformat_minor": 5
}
